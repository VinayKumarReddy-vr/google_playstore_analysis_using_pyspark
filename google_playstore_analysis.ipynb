{
 "cells": [
  {
   "cell_type": "code",
   "execution_count": 1,
   "id": "0fa78672",
   "metadata": {},
   "outputs": [],
   "source": [
    "# start a pyspark session\n",
    "import pyspark\n",
    "from pyspark.sql import SparkSession\n",
    "spark = SparkSession.builder.appName('google_playstore_analysis').getOrCreate()"
   ]
  },
  {
   "cell_type": "code",
   "execution_count": 2,
   "id": "0afb64ca",
   "metadata": {},
   "outputs": [
    {
     "data": {
      "text/html": [
       "\n",
       "            <div>\n",
       "                <p><b>SparkSession - in-memory</b></p>\n",
       "                \n",
       "        <div>\n",
       "            <p><b>SparkContext</b></p>\n",
       "\n",
       "            <p><a href=\"http://VinayReddy.lan:4041\">Spark UI</a></p>\n",
       "\n",
       "            <dl>\n",
       "              <dt>Version</dt>\n",
       "                <dd><code>v3.5.3</code></dd>\n",
       "              <dt>Master</dt>\n",
       "                <dd><code>local[*]</code></dd>\n",
       "              <dt>AppName</dt>\n",
       "                <dd><code>google_playstore_analysis</code></dd>\n",
       "            </dl>\n",
       "        </div>\n",
       "        \n",
       "            </div>\n",
       "        "
      ],
      "text/plain": [
       "<pyspark.sql.session.SparkSession at 0x17608453850>"
      ]
     },
     "execution_count": 2,
     "metadata": {},
     "output_type": "execute_result"
    }
   ],
   "source": [
    "spark"
   ]
  },
  {
   "cell_type": "code",
   "execution_count": 3,
   "id": "ad065947",
   "metadata": {},
   "outputs": [],
   "source": [
    "## Read the data from the csv file into a DataFrame.\n",
    "df_pyspark = spark.read.csv('googleplaystore.csv', header=True, inferSchema=True)\n",
    "## Replacing NaN with null values \n",
    "df_pyspark = df_pyspark.replace('NaN', None)"
   ]
  },
  {
   "cell_type": "code",
   "execution_count": 4,
   "id": "29d9f4bf",
   "metadata": {},
   "outputs": [
    {
     "name": "stdout",
     "output_type": "stream",
     "text": [
      "root\n",
      " |-- App: string (nullable = true)\n",
      " |-- Category: string (nullable = true)\n",
      " |-- Rating: string (nullable = true)\n",
      " |-- Reviews: string (nullable = true)\n",
      " |-- Size: string (nullable = true)\n",
      " |-- Installs: string (nullable = true)\n",
      " |-- Type: string (nullable = true)\n",
      " |-- Price: string (nullable = true)\n",
      " |-- Content Rating: string (nullable = true)\n",
      " |-- Genres: string (nullable = true)\n",
      " |-- Last Updated: string (nullable = true)\n",
      " |-- Current Ver: string (nullable = true)\n",
      " |-- Android Ver: string (nullable = true)\n",
      "\n"
     ]
    }
   ],
   "source": [
    "df_pyspark.printSchema()"
   ]
  },
  {
   "cell_type": "markdown",
   "id": "f86ef2da",
   "metadata": {},
   "source": [
    "# DATA CLEANING"
   ]
  },
  {
   "cell_type": "code",
   "execution_count": 5,
   "id": "44cee88d",
   "metadata": {},
   "outputs": [
    {
     "data": {
      "text/plain": [
       "1474"
      ]
     },
     "execution_count": 5,
     "metadata": {},
     "output_type": "execute_result"
    }
   ],
   "source": [
    "#checking for the null values in the rating column as rating data type should be double\n",
    "from pyspark.sql.functions import col\n",
    "df_pyspark.filter(col(\"Rating\").isNull()).count()"
   ]
  },
  {
   "cell_type": "code",
   "execution_count": 6,
   "id": "802cd38f",
   "metadata": {},
   "outputs": [
    {
     "name": "stdout",
     "output_type": "stream",
     "text": [
      "+-------+------------------+\n",
      "|summary|            Rating|\n",
      "+-------+------------------+\n",
      "|  count|              9367|\n",
      "|   mean| 4.193315536572349|\n",
      "| stddev|0.5374844456576829|\n",
      "|    min|        navigation|\n",
      "|    max|              Body|\n",
      "+-------+------------------+\n",
      "\n"
     ]
    }
   ],
   "source": [
    "df_pyspark.describe(\"Rating\").show()"
   ]
  },
  {
   "cell_type": "code",
   "execution_count": 8,
   "id": "6d2a61d7",
   "metadata": {},
   "outputs": [
    {
     "data": {
      "text/plain": [
       "2"
      ]
     },
     "execution_count": 8,
     "metadata": {},
     "output_type": "execute_result"
    }
   ],
   "source": [
    "from pyspark.sql.functions import col,when,regexp_replace\n",
    "\n",
    "non_numeric_rating = df_pyspark.filter(~col(\"Rating\").rlike(\"^[0-9]*\\\\.?[0-9]+$\"))\n",
    "non_numeric_rating.count()"
   ]
  },
  {
   "cell_type": "code",
   "execution_count": 9,
   "id": "fdfb49c1",
   "metadata": {},
   "outputs": [],
   "source": [
    "## replacing non-numeric values to nulls and converting entire column to double\n",
    "df_cleaned = df_pyspark.withColumn(\n",
    "    \"Rating\",\n",
    "    when(col(\"Rating\").rlike(\"^[0-9]*\\\\.?[0-9]+$\"), col(\"Rating\").cast(\"double\")).otherwise(None)\n",
    ")"
   ]
  },
  {
   "cell_type": "code",
   "execution_count": 10,
   "id": "576cf048",
   "metadata": {},
   "outputs": [
    {
     "name": "stdout",
     "output_type": "stream",
     "text": [
      "+-------+------------------+\n",
      "|summary|            Rating|\n",
      "+-------+------------------+\n",
      "|  count|              9365|\n",
      "|   mean| 4.193315536572349|\n",
      "| stddev|0.5374844456576829|\n",
      "|    min|               1.0|\n",
      "|    max|              19.0|\n",
      "+-------+------------------+\n",
      "\n"
     ]
    }
   ],
   "source": [
    "df_cleaned.describe(\"Rating\").show()"
   ]
  },
  {
   "cell_type": "code",
   "execution_count": 11,
   "id": "05d621c3",
   "metadata": {},
   "outputs": [
    {
     "name": "stdout",
     "output_type": "stream",
     "text": [
      "root\n",
      " |-- App: string (nullable = true)\n",
      " |-- Category: string (nullable = true)\n",
      " |-- Rating: double (nullable = true)\n",
      " |-- Reviews: string (nullable = true)\n",
      " |-- Size: string (nullable = true)\n",
      " |-- Installs: string (nullable = true)\n",
      " |-- Type: string (nullable = true)\n",
      " |-- Price: string (nullable = true)\n",
      " |-- Content Rating: string (nullable = true)\n",
      " |-- Genres: string (nullable = true)\n",
      " |-- Last Updated: string (nullable = true)\n",
      " |-- Current Ver: string (nullable = true)\n",
      " |-- Android Ver: string (nullable = true)\n",
      "\n"
     ]
    }
   ],
   "source": [
    "df_cleaned.printSchema()"
   ]
  },
  {
   "cell_type": "markdown",
   "id": "ffbe2dab",
   "metadata": {},
   "source": [
    "reviews should be in INT but from the printSchema we can see that it is String"
   ]
  },
  {
   "cell_type": "code",
   "execution_count": 12,
   "id": "d30cfb37",
   "metadata": {},
   "outputs": [
    {
     "name": "stdout",
     "output_type": "stream",
     "text": [
      "+-------+-----------------+\n",
      "|summary|          Reviews|\n",
      "+-------+-----------------+\n",
      "|  count|            10841|\n",
      "|   mean|444225.1924709356|\n",
      "| stddev|2928025.838407947|\n",
      "|    min|          camera\"|\n",
      "|    max|    weight lose)\"|\n",
      "+-------+-----------------+\n",
      "\n"
     ]
    }
   ],
   "source": [
    "df_pyspark.describe(\"Reviews\").show()"
   ]
  },
  {
   "cell_type": "code",
   "execution_count": 13,
   "id": "229c063d",
   "metadata": {},
   "outputs": [
    {
     "data": {
      "text/plain": [
       "3"
      ]
     },
     "execution_count": 13,
     "metadata": {},
     "output_type": "execute_result"
    }
   ],
   "source": [
    "## find out how many columns are not null and numeric \n",
    "non_numeric_reviews = df_cleaned.filter(~col(\"Reviews\").rlike(\"^[0-9]+$\"))\n",
    "non_numeric_reviews.count()"
   ]
  },
  {
   "cell_type": "markdown",
   "id": "aee2121c",
   "metadata": {},
   "source": [
    "I want to replace these with null values"
   ]
  },
  {
   "cell_type": "code",
   "execution_count": 18,
   "id": "f9737053",
   "metadata": {},
   "outputs": [],
   "source": [
    "df_cleaned = df_cleaned.withColumn(\n",
    "    \"Reviews\",\n",
    "    when(col(\"Reviews\").rlike(\"^[0-9]+$\"), col(\"Reviews\").cast(\"int\")).otherwise(None))"
   ]
  },
  {
   "cell_type": "code",
   "execution_count": 19,
   "id": "b1ca4a30",
   "metadata": {},
   "outputs": [
    {
     "name": "stdout",
     "output_type": "stream",
     "text": [
      "+-------+-----------------+\n",
      "|summary|          Reviews|\n",
      "+-------+-----------------+\n",
      "|  count|            10838|\n",
      "|   mean|444225.1924709356|\n",
      "| stddev|2928025.838407947|\n",
      "|    min|                0|\n",
      "|    max|         78158306|\n",
      "+-------+-----------------+\n",
      "\n"
     ]
    }
   ],
   "source": [
    "df_cleaned.describe(\"Reviews\").show()"
   ]
  },
  {
   "cell_type": "code",
   "execution_count": 16,
   "id": "2ebbc479",
   "metadata": {},
   "outputs": [
    {
     "name": "stdout",
     "output_type": "stream",
     "text": [
      "root\n",
      " |-- App: string (nullable = true)\n",
      " |-- Category: string (nullable = true)\n",
      " |-- Rating: double (nullable = true)\n",
      " |-- Reviews: integer (nullable = true)\n",
      " |-- Size: string (nullable = true)\n",
      " |-- Installs: string (nullable = true)\n",
      " |-- Type: string (nullable = true)\n",
      " |-- Price: string (nullable = true)\n",
      " |-- Content Rating: string (nullable = true)\n",
      " |-- Genres: string (nullable = true)\n",
      " |-- Last Updated: string (nullable = true)\n",
      " |-- Current Ver: string (nullable = true)\n",
      " |-- Android Ver: string (nullable = true)\n",
      "\n"
     ]
    }
   ],
   "source": [
    "df_cleaned.printSchema()"
   ]
  },
  {
   "cell_type": "markdown",
   "id": "97f9a404",
   "metadata": {},
   "source": [
    "remove + from the Installs column and change data type to Integer"
   ]
  },
  {
   "cell_type": "code",
   "execution_count": 20,
   "id": "fc7a7dfb",
   "metadata": {},
   "outputs": [],
   "source": [
    "df_cleaned=df_cleaned.withColumn(\"Installs\",regexp_replace(col(\"Installs\"), \"[+,]\", \"\"))"
   ]
  },
  {
   "cell_type": "code",
   "execution_count": 21,
   "id": "546a1699",
   "metadata": {},
   "outputs": [],
   "source": [
    "df_cleaned=df_cleaned.withColumn(\"Installs\",col(\"Installs\").cast(\"int\"))"
   ]
  },
  {
   "cell_type": "code",
   "execution_count": 22,
   "id": "4720d719",
   "metadata": {},
   "outputs": [
    {
     "name": "stdout",
     "output_type": "stream",
     "text": [
      "root\n",
      " |-- App: string (nullable = true)\n",
      " |-- Category: string (nullable = true)\n",
      " |-- Rating: double (nullable = true)\n",
      " |-- Reviews: integer (nullable = true)\n",
      " |-- Size: string (nullable = true)\n",
      " |-- Installs: integer (nullable = true)\n",
      " |-- Type: string (nullable = true)\n",
      " |-- Price: string (nullable = true)\n",
      " |-- Content Rating: string (nullable = true)\n",
      " |-- Genres: string (nullable = true)\n",
      " |-- Last Updated: string (nullable = true)\n",
      " |-- Current Ver: string (nullable = true)\n",
      " |-- Android Ver: string (nullable = true)\n",
      "\n"
     ]
    }
   ],
   "source": [
    "df_cleaned.printSchema()"
   ]
  },
  {
   "cell_type": "code",
   "execution_count": 23,
   "id": "ce227a09",
   "metadata": {},
   "outputs": [
    {
     "name": "stdout",
     "output_type": "stream",
     "text": [
      "+-------+------------------+\n",
      "|summary|             Price|\n",
      "+-------+------------------+\n",
      "|  count|             10841|\n",
      "|   mean|               0.0|\n",
      "| stddev|               0.0|\n",
      "|    min|             $0.99|\n",
      "|    max|Varies with device|\n",
      "+-------+------------------+\n",
      "\n"
     ]
    }
   ],
   "source": [
    "df_cleaned.describe(\"Price\").show()"
   ]
  },
  {
   "cell_type": "code",
   "execution_count": 24,
   "id": "5d01bfe0",
   "metadata": {},
   "outputs": [],
   "source": [
    "## remove dollar sign from the price column\n",
    "df_cleaned=df_cleaned.withColumn(\"Price\",regexp_replace(col(\"Price\"),\"[$,M]\",\"\"))"
   ]
  },
  {
   "cell_type": "code",
   "execution_count": 25,
   "id": "653772c0",
   "metadata": {},
   "outputs": [
    {
     "name": "stdout",
     "output_type": "stream",
     "text": [
      "+-------+------------------+\n",
      "|summary|             Price|\n",
      "+-------+------------------+\n",
      "|  count|             10841|\n",
      "|   mean|  1.02792416274563|\n",
      "| stddev| 15.95047880645482|\n",
      "|    min|                 0|\n",
      "|    max|Varies with device|\n",
      "+-------+------------------+\n",
      "\n"
     ]
    }
   ],
   "source": [
    "df_cleaned.describe(\"Price\").show()"
   ]
  },
  {
   "cell_type": "code",
   "execution_count": 26,
   "id": "3953b127",
   "metadata": {},
   "outputs": [
    {
     "name": "stdout",
     "output_type": "stream",
     "text": [
      "+--------------------+-------------+------+-------+-------------------+--------+------+------------------+--------------+-----------------+------------+-----------+-----------------+\n",
      "|                 App|     Category|Rating|Reviews|               Size|Installs|  Type|             Price|Content Rating|           Genres|Last Updated|Current Ver|      Android Ver|\n",
      "+--------------------+-------------+------+-------+-------------------+--------+------+------------------+--------------+-----------------+------------+-----------+-----------------+\n",
      "|\"Yanosik: \"\"antyr...| traffic jams|  NULL|   NULL|MAPS_AND_NAVIGATION|       4|102248|Varies with device|    5,000,000+|             Free|           0|   Everyone|Maps & Navigation|\n",
      "|Life Made WI-Fi T...|          1.9|  19.0|   NULL|             1,000+|    NULL|     0|          Everyone|          NULL|February 11, 2018|      1.0.19| 4.0 and up|             NULL|\n",
      "+--------------------+-------------+------+-------+-------------------+--------+------+------------------+--------------+-----------------+------------+-----------+-----------------+\n",
      "\n"
     ]
    }
   ],
   "source": [
    "non_numeric_Price = df_cleaned.filter(~col(\"Price\").rlike(\"^[0-9]*\\\\.?[0-9]+$\"))\n",
    "non_numeric_Price.show()"
   ]
  },
  {
   "cell_type": "markdown",
   "id": "0150912b",
   "metadata": {},
   "source": [
    "replace with 0 where price data cells are in non numeric format"
   ]
  },
  {
   "cell_type": "code",
   "execution_count": 27,
   "id": "958a1c5d",
   "metadata": {},
   "outputs": [
    {
     "name": "stdout",
     "output_type": "stream",
     "text": [
      "+-------+------------------+\n",
      "|summary|             Price|\n",
      "+-------+------------------+\n",
      "|  count|             10841|\n",
      "|   mean|  1.02792416274563|\n",
      "| stddev| 15.95047880645482|\n",
      "|    min|                 0|\n",
      "|    max|Varies with device|\n",
      "+-------+------------------+\n",
      "\n"
     ]
    }
   ],
   "source": [
    "df_cleaned.describe(\"Price\").show()"
   ]
  },
  {
   "cell_type": "markdown",
   "id": "5c2a8d65",
   "metadata": {},
   "source": [
    " find out TOP 10 reviews given to the apps "
   ]
  },
  {
   "cell_type": "code",
   "execution_count": 33,
   "id": "4ca2916d",
   "metadata": {},
   "outputs": [],
   "source": [
    "df_cleaned.createOrReplaceTempView(\"google_playstore\")"
   ]
  },
  {
   "cell_type": "code",
   "execution_count": 49,
   "id": "d33c14ff",
   "metadata": {},
   "outputs": [],
   "source": [
    "top_reviews_sql = spark.sql(\"\"\"\n",
    "    SELECT App, SUM(Reviews) AS TotalReviews\n",
    "    FROM google_playstore\n",
    "    GROUP BY App\n",
    "    ORDER BY TotalReviews DESC\n",
    "    LIMIT 10\n",
    "\"\"\")\n"
   ]
  },
  {
   "cell_type": "code",
   "execution_count": 50,
   "id": "62995ad5",
   "metadata": {
    "scrolled": true
   },
   "outputs": [
    {
     "name": "stdout",
     "output_type": "stream",
     "text": [
      "+--------------------+------------+\n",
      "|                 App|TotalReviews|\n",
      "+--------------------+------------+\n",
      "|           Instagram|   266241989|\n",
      "|  WhatsApp Messenger|   207348304|\n",
      "|      Clash of Clans|   179558781|\n",
      "|Messenger – Text ...|   169932272|\n",
      "|      Subway Surfers|   166331958|\n",
      "|    Candy Crush Saga|   156993136|\n",
      "|            Facebook|   156286514|\n",
      "|         8 Ball Pool|    99386198|\n",
      "|        Clash Royale|    92530298|\n",
      "|            Snapchat|    68045010|\n",
      "+--------------------+------------+\n",
      "\n"
     ]
    }
   ],
   "source": [
    "top_reviews_sql.show()"
   ]
  },
  {
   "cell_type": "markdown",
   "id": "683e5044",
   "metadata": {},
   "source": [
    "TOP 10 INSTALL APPS"
   ]
  },
  {
   "cell_type": "code",
   "execution_count": 55,
   "id": "b7f9a78e",
   "metadata": {},
   "outputs": [
    {
     "name": "stdout",
     "output_type": "stream",
     "text": [
      "+------------------+----+-------------+\n",
      "|               App|Type|TotalInstalls|\n",
      "+------------------+----+-------------+\n",
      "|    Subway Surfers|Free|   6000000000|\n",
      "|         Instagram|Free|   4000000000|\n",
      "|      Google Drive|Free|   4000000000|\n",
      "|          Hangouts|Free|   4000000000|\n",
      "|     Google Photos|Free|   4000000000|\n",
      "|       Google News|Free|   4000000000|\n",
      "|  Candy Crush Saga|Free|   3500000000|\n",
      "|WhatsApp Messenger|Free|   3000000000|\n",
      "|             Gmail|Free|   3000000000|\n",
      "|      Temple Run 2|Free|   3000000000|\n",
      "+------------------+----+-------------+\n",
      "\n"
     ]
    }
   ],
   "source": [
    "top_install_apps = spark.sql(\"\"\"\n",
    "SELECT App,Type,SUM(Installs) as TotalInstalls\n",
    "FROM google_playstore\n",
    "GROUP BY 1,2\n",
    "order by 3 desc \n",
    "LIMIT 10\n",
    "\"\"\")\n",
    "top_install_apps.show()"
   ]
  },
  {
   "cell_type": "markdown",
   "id": "7481f270",
   "metadata": {},
   "source": [
    "CATEGORYWISE_INSTALLATIONS"
   ]
  },
  {
   "cell_type": "code",
   "execution_count": 62,
   "id": "573d2c68",
   "metadata": {},
   "outputs": [
    {
     "name": "stdout",
     "output_type": "stream",
     "text": [
      "+------------------+-------------+\n",
      "|          Category|TotalInstalls|\n",
      "+------------------+-------------+\n",
      "|              GAME|  35086024415|\n",
      "|     COMMUNICATION|  32647276251|\n",
      "|      PRODUCTIVITY|  14176091369|\n",
      "|            SOCIAL|  14069867902|\n",
      "|             TOOLS|  11452771915|\n",
      "|            FAMILY|  10258263505|\n",
      "|       PHOTOGRAPHY|  10088247655|\n",
      "|NEWS_AND_MAGAZINES|   7496317760|\n",
      "|  TRAVEL_AND_LOCAL|   6868887146|\n",
      "|     VIDEO_PLAYERS|   6222002720|\n",
      "+------------------+-------------+\n",
      "\n"
     ]
    }
   ],
   "source": [
    "categorywise_Installations = spark.sql(\"\"\"\n",
    "SELECT Category, SUM(Installs) as TotalInstalls\n",
    "FROM google_playstore\n",
    "GROUP BY 1\n",
    "ORDER BY 2 DESC\n",
    "LIMIT 10\n",
    "\"\"\")\n",
    "categorywise_Installations.show()"
   ]
  },
  {
   "cell_type": "markdown",
   "id": "c3e73e74",
   "metadata": {},
   "source": [
    "TOP PAID APPS"
   ]
  },
  {
   "cell_type": "code",
   "execution_count": 64,
   "id": "fbf1899b",
   "metadata": {},
   "outputs": [
    {
     "name": "stdout",
     "output_type": "stream",
     "text": [
      "+--------------------+----------+\n",
      "|                 App|TotalPrice|\n",
      "+--------------------+----------+\n",
      "|I'm Rich - Trump ...|     400.0|\n",
      "|most expensive ap...|    399.99|\n",
      "|  I am rich(premium)|    399.99|\n",
      "|   I Am Rich Premium|    399.99|\n",
      "|      I am Rich Plus|    399.99|\n",
      "|I'm Rich/Eu sou R...|    399.99|\n",
      "|       I Am Rich Pro|    399.99|\n",
      "|  I AM RICH PRO PLUS|    399.99|\n",
      "|           I am Rich|    399.99|\n",
      "|          I am Rich!|    399.99|\n",
      "+--------------------+----------+\n",
      "\n"
     ]
    }
   ],
   "source": [
    "top_paid_apps = spark.sql(\"\"\"\n",
    "SELECT App, SUM(Price) as TotalPrice\n",
    "FROM google_playstore\n",
    "GROUP BY 1\n",
    "ORDER BY 2 DESC\n",
    "LIMIT 10\n",
    "\"\"\")\n",
    "top_paid_apps.show()"
   ]
  },
  {
   "cell_type": "markdown",
   "id": "96f0d406",
   "metadata": {},
   "source": [
    "TOP PAID RATING APPS"
   ]
  },
  {
   "cell_type": "code",
   "execution_count": 69,
   "id": "9ed2eca4",
   "metadata": {},
   "outputs": [
    {
     "name": "stdout",
     "output_type": "stream",
     "text": [
      "+--------------------+----------+\n",
      "|                 App|sum(Price)|\n",
      "+--------------------+----------+\n",
      "|I'm Rich - Trump ...|     400.0|\n",
      "|most expensive ap...|    399.99|\n",
      "|  I am rich(premium)|    399.99|\n",
      "|   I Am Rich Premium|    399.99|\n",
      "|      I am Rich Plus|    399.99|\n",
      "|I'm Rich/Eu sou R...|    399.99|\n",
      "|       I Am Rich Pro|    399.99|\n",
      "|  I AM RICH PRO PLUS|    399.99|\n",
      "|           I am Rich|    399.99|\n",
      "|          I am Rich!|    399.99|\n",
      "+--------------------+----------+\n",
      "\n"
     ]
    }
   ],
   "source": [
    "top_paid_rating_apps = spark.sql(\"\"\"\n",
    "SELECT App,SUM(Price) \n",
    "FROM google_playstore\n",
    "WHERE Type = \"Paid\"\n",
    "GROUP by 1\n",
    "ORDER BY 2 DESC\n",
    "LIMIT 10\n",
    "\"\"\")\n",
    "top_paid_rating_apps.show()"
   ]
  },
  {
   "cell_type": "code",
   "execution_count": null,
   "id": "23f3e076",
   "metadata": {},
   "outputs": [],
   "source": []
  }
 ],
 "metadata": {
  "kernelspec": {
   "display_name": "Python 3 (ipykernel)",
   "language": "python",
   "name": "python3"
  },
  "language_info": {
   "codemirror_mode": {
    "name": "ipython",
    "version": 3
   },
   "file_extension": ".py",
   "mimetype": "text/x-python",
   "name": "python",
   "nbconvert_exporter": "python",
   "pygments_lexer": "ipython3",
   "version": "3.9.13"
  }
 },
 "nbformat": 4,
 "nbformat_minor": 5
}
